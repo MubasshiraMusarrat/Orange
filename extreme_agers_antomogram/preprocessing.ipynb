{
 "cells": [
  {
   "cell_type": "code",
   "execution_count": 1,
   "metadata": {},
   "outputs": [
    {
     "name": "stdout",
     "output_type": "stream",
     "text": [
      "Transposed CSV has been saved to transposed.csv\n"
     ]
    }
   ],
   "source": [
    "import csv\n",
    "\n",
    "def transpose_csv(input_file, output_file):\n",
    "    with open(input_file, mode='r', newline='', encoding='utf-8') as infile:\n",
    "        reader = csv.reader(infile)\n",
    "        data = list(reader)\n",
    "\n",
    "    transposed_data = zip(*data)\n",
    "    \n",
    "    with open(output_file, mode='w', newline='', encoding='utf-8') as outfile:\n",
    "        writer = csv.writer(outfile)\n",
    "        writer.writerows(transposed_data)\n",
    "\n",
    "    print(f\"Transposed CSV has been saved to {output_file}\")\n",
    "\n",
    "input_csv = 'ageotype_avg_agegaps_pls_204201-204206.csv' \n",
    "output_csv = 'transposed.csv' \n",
    "transpose_csv(input_csv, output_csv)"
   ]
  },
  {
   "cell_type": "code",
   "execution_count": 3,
   "metadata": {},
   "outputs": [
    {
     "name": "stdout",
     "output_type": "stream",
     "text": [
      "Sorted CSV has been saved to sorted.csv\n"
     ]
    }
   ],
   "source": [
    "import csv\n",
    "\n",
    "def sort_csv_by_column(input_file, output_file, column_index):\n",
    "    with open(input_file, mode='r', newline='', encoding='utf-8') as infile:\n",
    "        reader = csv.reader(infile)\n",
    "        header = next(reader) \n",
    "        rows = list(reader)\n",
    "\n",
    "    updated_header = [f\"{name.replace('_', ' ').title()} Extreme Agers\" for name in header]\n",
    "\n",
    "    rows = [[cell if cell.strip() != '' else '0' for cell in row] for row in rows]\n",
    "    rows.sort(key=lambda row: row[column_index].lower())\n",
    "\n",
    "    with open(output_file, mode='w', newline='', encoding='utf-8') as outfile:\n",
    "        writer = csv.writer(outfile)\n",
    "        writer.writerow(updated_header)  \n",
    "        writer.writerows(rows) \n",
    "    \n",
    "    print(f\"Sorted CSV has been saved to {output_file}\")\n",
    "\n",
    "input_csv = 'transposed.csv'\n",
    "output_csv = 'sorted.csv'\n",
    "column_index = 0 \n",
    "\n",
    "sort_csv_by_column(input_csv, output_csv, column_index)\n"
   ]
  }
 ],
 "metadata": {
  "kernelspec": {
   "display_name": "deg",
   "language": "python",
   "name": "python3"
  },
  "language_info": {
   "codemirror_mode": {
    "name": "ipython",
    "version": 3
   },
   "file_extension": ".py",
   "mimetype": "text/x-python",
   "name": "python",
   "nbconvert_exporter": "python",
   "pygments_lexer": "ipython3",
   "version": "3.12.5"
  }
 },
 "nbformat": 4,
 "nbformat_minor": 2
}
